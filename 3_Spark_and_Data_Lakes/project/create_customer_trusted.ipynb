{
 "cells": [
  {
   "cell_type": "code",
   "execution_count": 172,
   "id": "0a5c7c7c-0959-47c5-9205-b8d74469ce9e",
   "metadata": {},
   "outputs": [],
   "source": [
    "import os\n",
    "import json\n",
    "import time\n",
    "import boto3\n",
    "import pandas as pd\n",
    "\n",
    "# constants\n",
    "ATHENA_DATABASE = 'udacity_project3'\n",
    "ATHENA_TABLE = 'customer_landing'\n",
    "S3_BUCKET = 'orlevitas-s3-bucket'\n",
    "S3_OUTPUT_FOLDER = 'project3/data/customer/trusted' \n",
    "ATHENA_S3_OUTPUT_FOLDER  = 'project3/data/customer/trusted/tmp' \n",
    "S3_OUTPUT_FILENAME = 'customer_trusted.json'\n",
    "REGION = 'us-east-1'\n",
    "QUERY = \"\"\"SELECT *\n",
    "FROM {athena_database}.{athena_table} \n",
    "WHERE sharewithresearchasofdate IS NOT NULL\n",
    "\"\"\".format(athena_database=ATHENA_DATABASE, athena_table=ATHENA_TABLE)"
   ]
  },
  {
   "cell_type": "code",
   "execution_count": 175,
   "id": "c2e383c2-0d37-49ae-b810-ea85e0f7cd26",
   "metadata": {},
   "outputs": [],
   "source": [
    "def run_query():\n",
    "    client = boto3.client('athena', region_name=REGION)\n",
    "    \n",
    "    response = client.start_query_execution(\n",
    "        QueryString=QUERY,\n",
    "        QueryExecutionContext={'Database': ATHENA_DATABASE},\n",
    "        ResultConfiguration={'OutputLocation': f's3://{S3_BUCKET}/{ATHENA_S3_OUTPUT_FOLDER}/'}\n",
    "    )\n",
    "    return response['QueryExecutionId']\n",
    "\n",
    "def get_query_results(query_execution_id):\n",
    "    client = boto3.client('athena', region_name=REGION)\n",
    "    \n",
    "    # Wait for the query to complete\n",
    "    while True:\n",
    "        response = client.get_query_execution(QueryExecutionId=query_execution_id)\n",
    "        status = response['QueryExecution']['Status']['State']\n",
    "        \n",
    "        if status in ['SUCCEEDED', 'FAILED', 'CANCELLED']:\n",
    "            break\n",
    "        time.sleep(5)\n",
    "    \n",
    "    if status != 'SUCCEEDED':\n",
    "        raise Exception(f'Query failed with status: {status}')\n",
    "    \n",
    "    results = client.get_query_results(QueryExecutionId=query_execution_id)\n",
    "    return results\n",
    "\n",
    "def parse_results(results):\n",
    "    columns = [col['Label'] for col in results['ResultSet']['ResultSetMetadata']['ColumnInfo']]\n",
    "    rows = results['ResultSet']['Rows'][1:]  # Skip header row\n",
    "    data = []\n",
    "\n",
    "    for row in rows:\n",
    "        values = [datum.get('VarCharValue', None) for datum in row['Data']]\n",
    "        data.append(dict(zip(columns, values)))\n",
    "\n",
    "    return data\n",
    "\n",
    "def save_to_s3(data):\n",
    "    s3_client = boto3.client('s3', region_name=REGION)\n",
    "    \n",
    "    # Save to local file\n",
    "    with open(S3_OUTPUT_FILENAME, 'w') as f:\n",
    "        # json.dump(data, f)\n",
    "         f.write(data)\n",
    "\n",
    "\n",
    "    # Upload to S3\n",
    "    s3_client.upload_file(S3_OUTPUT_FILENAME, S3_BUCKET, f'{S3_OUTPUT_FOLDER}/{S3_OUTPUT_FILENAME}')\n",
    "    print(f'File uploaded to s3://{S3_BUCKET}/{S3_OUTPUT_FOLDER}/{S3_OUTPUT_FILENAME}')\n",
    "\n",
    "def delete_s3_objects(bucket_name, prefix):\n",
    "    \"\"\"\n",
    "    Delete all objects under a prefix in an S3 bucket.\n",
    "    \"\"\"\n",
    "    # Initialize Boto3 S3 client\n",
    "    s3_client = boto3.client('s3', region_name=REGION)\n",
    "    paginator = s3_client.get_paginator('list_objects_v2')\n",
    "    delete_requests = {'Objects': []}\n",
    "\n",
    "    # Paginate through S3 objects and add delete requests to batch\n",
    "    for page in paginator.paginate(Bucket=bucket_name, Prefix=prefix):\n",
    "        if 'Contents' in page:\n",
    "            for obj in page['Contents']:\n",
    "                delete_requests['Objects'].append({'Key': obj['Key']})\n",
    "\n",
    "        # Delete objects in batches of up to 1000\n",
    "        if len(delete_requests['Objects']) >= 1000:\n",
    "            s3_client.delete_objects(Bucket=bucket_name, Delete=delete_requests)\n",
    "            delete_requests = {'Objects': []}\n",
    "\n",
    "    # Delete any remaining objects\n",
    "    if delete_requests['Objects']:\n",
    "        s3_client.delete_objects(Bucket=bucket_name, Delete=delete_requests)\n",
    "\n",
    "    # Delete the prefix itself\n",
    "    s3_client.delete_object(Bucket=bucket_name, Key=prefix)\n",
    "\n",
    "def convert_json_to_string(data):\n",
    "    def filter_non_null_fields(data_dict):\n",
    "        return {key: value for key, value in data_dict.items() if value is not None}\n",
    "    \n",
    "    json_results_dict = []\n",
    "    converted_string = ''\n",
    "    \n",
    "    for line in data:\n",
    "        filted_dict = filter_non_null_fields(line)\n",
    "        json_string = json.dumps(filted_dict)\n",
    "        converted_string +=  json_string + '\\n'\n",
    "        \n",
    "    return converted_string"
   ]
  },
  {
   "cell_type": "code",
   "execution_count": 180,
   "id": "9de9a593-73cd-41ab-a3b5-f6ca5d61ea36",
   "metadata": {},
   "outputs": [
    {
     "name": "stdout",
     "output_type": "stream",
     "text": [
      "Query execution ID: cb00e5b9-635b-4d23-982e-e4a67b1d0457\n",
      "Query execution completed.\n",
      "Results parsed.\n",
      "converted json to string\n",
      "File uploaded to s3://orlevitas-s3-bucket/project3/data/customer/trusted/customer_trusted.json\n",
      "Results saved to S3.\n",
      "Deleted temporary files from athena query to S3.\n",
      "Finished\n"
     ]
    }
   ],
   "source": [
    "query_execution_id = run_query()\n",
    "print(f'Query execution ID: {query_execution_id}')\n",
    "\n",
    "results = get_query_results(query_execution_id)\n",
    "print('Query execution completed.')\n",
    "\n",
    "data = parse_results(results)\n",
    "print('Results parsed.')\n",
    "\n",
    "# converted_string = ''\n",
    "# for dictionary in data:\n",
    "#     json_string = json.dumps(dictionary)\n",
    "#     converted_string +=  json_string + '\\n'\n",
    "# gett = s3_client.get_object(Bucket=S3_BUCKET, Key='project3/data/customer/landing/customer-1691348231425.json')\n",
    "# my_trusted =gett['Body'].read().decode('utf-8')\n",
    "# stripped_line = my_trusted.splitlines()\n",
    "\n",
    "converted_string = convert_json_to_string(data)\n",
    "print('converted json to string')\n",
    "\n",
    "save_to_s3(converted_string)\n",
    "print('Results saved to S3.')\n",
    "\n",
    "delete_s3_objects(S3_BUCKET, ATHENA_S3_OUTPUT_FOLDER)\n",
    "print('Deleted temporary files from athena query to S3.')\n",
    "\n",
    "# Clean up local file\n",
    "if os.path.exists(S3_OUTPUT_FILENAME):\n",
    "    os.remove(S3_OUTPUT_FILENAME)\n",
    "\n",
    "print('Finished')"
   ]
  },
  {
   "cell_type": "code",
   "execution_count": 181,
   "id": "ae160e62-5a63-4a44-a80e-2f703847510a",
   "metadata": {},
   "outputs": [],
   "source": []
  },
  {
   "cell_type": "code",
   "execution_count": 70,
   "id": "1ed05369-0923-4dfe-b022-277280f3d9ff",
   "metadata": {
    "scrolled": true
   },
   "outputs": [],
   "source": [
    "s3_client = boto3.client('s3', region_name=REGION)\n",
    "response = s3_client.get_object(Bucket=S3_BUCKET, Key=f'{S3_OUTPUT_FOLDER}/{S3_OUTPUT_FILENAME}')\n",
    "response_body = response['Body'].read().decode('utf-8')\n",
    "# file_content = json.loads(response_body)\n",
    "# file_content.__len__()"
   ]
  },
  {
   "cell_type": "code",
   "execution_count": 58,
   "id": "dd24099a-e962-46ea-9bde-8f96f8269c8f",
   "metadata": {},
   "outputs": [
    {
     "name": "stderr",
     "output_type": "stream",
     "text": [
      "IOPub data rate exceeded.\n",
      "The Jupyter server will temporarily stop sending output\n",
      "to the client in order to avoid crashing it.\n",
      "To change this limit, set the config variable\n",
      "`--ServerApp.iopub_data_rate_limit`.\n",
      "\n",
      "Current values:\n",
      "ServerApp.iopub_data_rate_limit=1000000.0 (bytes/sec)\n",
      "ServerApp.rate_limit_window=3.0 (secs)\n",
      "\n"
     ]
    }
   ],
   "source": [
    "ACCELEROMETER_LANDING = 'project3/data/accelerometer/landing/'\n",
    "\n",
    "s3_client = boto3.client('s3', region_name=REGION)\n",
    "\n",
    "# List objects within the specified directory\n",
    "response = s3_client.list_objects_v2(Bucket=S3_BUCKET, Prefix=ACCELEROMETER_LANDING)\n",
    "\n",
    "json_data = []\n",
    "\n",
    "# Iterate over the objects in the response\n",
    "for obj in response['Contents']:\n",
    "    key = obj['Key']\n",
    "    \n",
    "    response = s3_client.get_object(Bucket=S3_BUCKET, Key=key)\n",
    "    #response = s3_client.get_object(Bucket=S3_BUCKET, Key=f'project3/data/accelerometer/landing/accelerometer-1691348231445.json')\n",
    "    file_content =response['Body'].read().decode('utf-8')\n",
    "    json_strings = file_content.splitlines()\n",
    "    json_data.extend([json.loads(json_str) for json_str in json_strings])\n",
    "\n",
    "print(len(json_data))"
   ]
  },
  {
   "cell_type": "code",
   "execution_count": 59,
   "id": "9919d813-8cf9-4aa8-9318-c82f4e1e169c",
   "metadata": {},
   "outputs": [
    {
     "name": "stdout",
     "output_type": "stream",
     "text": [
      "81273\n"
     ]
    }
   ],
   "source": [
    "print(len(json_data))"
   ]
  },
  {
   "cell_type": "code",
   "execution_count": null,
   "id": "d48dd282-3ee3-49bd-94f9-1533b9c26024",
   "metadata": {},
   "outputs": [],
   "source": []
  }
 ],
 "metadata": {
  "kernelspec": {
   "display_name": "Python 3 (ipykernel)",
   "language": "python",
   "name": "python3"
  },
  "language_info": {
   "codemirror_mode": {
    "name": "ipython",
    "version": 3
   },
   "file_extension": ".py",
   "mimetype": "text/x-python",
   "name": "python",
   "nbconvert_exporter": "python",
   "pygments_lexer": "ipython3",
   "version": "3.12.3"
  }
 },
 "nbformat": 4,
 "nbformat_minor": 5
}
